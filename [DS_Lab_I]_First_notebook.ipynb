{
  "nbformat": 4,
  "nbformat_minor": 0,
  "metadata": {
    "colab": {
      "provenance": [],
      "include_colab_link": true
    },
    "kernelspec": {
      "name": "python3",
      "display_name": "Python 3"
    },
    "language_info": {
      "name": "python"
    }
  },
  "cells": [
    {
      "cell_type": "markdown",
      "metadata": {
        "id": "view-in-github",
        "colab_type": "text"
      },
      "source": [
        "<a href=\"https://colab.research.google.com/github/DataScienceLab-DSLABI/Active-Learning-Anomaly-Detection/blob/main/%5BDS_Lab_I%5D_First_notebook.ipynb\" target=\"_parent\"><img src=\"https://colab.research.google.com/assets/colab-badge.svg\" alt=\"Open In Colab\"/></a>"
      ]
    },
    {
      "cell_type": "code",
      "execution_count": 1,
      "metadata": {
        "id": "ujMq2y0yhlRM",
        "colab": {
          "base_uri": "https://localhost:8080/"
        },
        "outputId": "8f6620d7-a0d0-48a0-cd3e-e8b66e581822"
      },
      "outputs": [
        {
          "output_type": "stream",
          "name": "stdout",
          "text": [
            "Cloning into 'hai'...\n",
            "remote: Enumerating objects: 329, done.\u001b[K\n",
            "remote: Counting objects: 100% (107/107), done.\u001b[K\n",
            "remote: Compressing objects: 100% (92/92), done.\u001b[K\n",
            "remote: Total 329 (delta 37), reused 66 (delta 15), pack-reused 222\u001b[K\n",
            "Receiving objects: 100% (329/329), 519.79 MiB | 31.69 MiB/s, done.\n",
            "Resolving deltas: 100% (108/108), done.\n",
            "Updating files: 100% (72/72), done.\n",
            "Filtering content: 100% (20/20), 1.65 GiB | 48.50 MiB/s, done.\n",
            "gzip: *.gz: No such file or directory\n",
            "Not in a git repository.\n"
          ]
        }
      ],
      "source": [
        "!git clone https://github.com/icsdataset/hai\n",
        "! gunzip *.gz\n",
        "! git lfs pull"
      ]
    },
    {
      "cell_type": "code",
      "source": [
        "print('test to change')"
      ],
      "metadata": {
        "id": "n1U1kzg7sFrB",
        "colab": {
          "base_uri": "https://localhost:8080/"
        },
        "outputId": "cbfee675-ac80-49c2-c119-f96c617b3c36"
      },
      "execution_count": 3,
      "outputs": [
        {
          "output_type": "stream",
          "name": "stdout",
          "text": [
            "test to change\n"
          ]
        }
      ]
    },
    {
      "cell_type": "code",
      "source": [],
      "metadata": {
        "id": "cDu-Vvn1wjt7"
      },
      "execution_count": null,
      "outputs": []
    }
  ]
}