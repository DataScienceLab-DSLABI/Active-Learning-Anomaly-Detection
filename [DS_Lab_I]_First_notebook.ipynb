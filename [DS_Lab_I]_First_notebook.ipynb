{
  "nbformat": 4,
  "nbformat_minor": 0,
  "metadata": {
    "colab": {
      "provenance": []
    },
    "kernelspec": {
      "name": "python3",
      "display_name": "Python 3"
    },
    "language_info": {
      "name": "python"
    }
  },
  "cells": [
    {
      "cell_type": "code",
      "execution_count": 1,
      "metadata": {
        "id": "ujMq2y0yhlRM",
        "colab": {
          "base_uri": "https://localhost:8080/"
        },
        "outputId": "171abb8e-0d4a-4719-be45-03f93f7dd0d0"
      },
      "outputs": [
        {
          "output_type": "stream",
          "name": "stdout",
          "text": [
            "Cloning into 'hai'...\n",
            "remote: Enumerating objects: 329, done.\u001b[K\n",
            "remote: Counting objects: 100% (107/107), done.\u001b[K\n",
            "remote: Compressing objects: 100% (92/92), done.\u001b[K\n",
            "remote: Total 329 (delta 37), reused 66 (delta 15), pack-reused 222\u001b[K\n",
            "Receiving objects: 100% (329/329), 519.79 MiB | 28.77 MiB/s, done.\n",
            "Resolving deltas: 100% (108/108), done.\n",
            "Updating files: 100% (72/72), done.\n",
            "Filtering content: 100% (20/20), 1.65 GiB | 44.17 MiB/s, done.\n",
            "gzip: *.gz: No such file or directory\n",
            "Not in a git repository.\n"
          ]
        }
      ],
      "source": [
        "!git clone https://github.com/icsdataset/hai\n",
        "! gunzip *.gz\n",
        "! git lfs pull"
      ]
    },
    {
      "cell_type": "code",
      "source": [],
      "metadata": {
        "id": "MjQMnZwsj__J"
      },
      "execution_count": null,
      "outputs": []
    }
  ]
}